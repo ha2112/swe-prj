{
 "cells": [
  {
   "cell_type": "markdown",
   "metadata": {},
   "source": [
    "### Dependencies\n",
    "\n",
    "- langchain_google_genai\n",
    "- langchain\n",
    "- langchain_core\n",
    "- time\n",
    "- dotenv\n",
    "- pprint\n",
    "- datasets\n",
    "- typing_extensions\n",
    "- typing\n",
    "- IPython\n",
    "- ragas\n",
    "- langgraph\n",
    "- tiktoken\n",
    "- re\n",
    "- PyPDF2\n",
    "- pylcs\n",
    "- pandas\n",
    "- textwrap\n",
    "- markdown"
   ]
  },
  {
   "cell_type": "code",
   "execution_count": null,
   "metadata": {},
   "outputs": [],
   "source": [
    "# INSTALL DEPENDENCIES\n",
    "\n",
    "!pip install langchain_google_genai langchain langchain_core python-dotenv datasets typing_extensions IPython ragas langgraph tiktoken PyPDF2 pylcs pandas langchain_groq langchain_mongodb markdown"
   ]
  },
  {
   "cell_type": "code",
   "execution_count": 15,
   "metadata": {},
   "outputs": [
    {
     "data": {
      "text/plain": [
       "True"
      ]
     },
     "execution_count": 15,
     "metadata": {},
     "output_type": "execute_result"
    }
   ],
   "source": [
    "from langchain_google_genai import ChatGoogleGenerativeAI\n",
    "from langchain_groq import ChatGroq\n",
    "from langchain.document_loaders import PyPDFLoader\n",
    "from langchain_mongodb import MongoDBAtlasVectorSearch\n",
    "from langchain.text_splitter import RecursiveCharacterTextSplitter\n",
    "from langchain.prompts import PromptTemplate\n",
    "from langchain.docstore.document import Document\n",
    "from langchain.chains.summarize import load_summarize_chain\n",
    "from langchain_core.pydantic_v1 import BaseModel, Field\n",
    "from langchain_core.output_parsers import JsonOutputKeyToolsParser\n",
    "from langchain_core.runnables.graph import MermaidDrawMethod\n",
    "\n",
    "from langgraph.graph import END, StateGraph\n",
    "\n",
    "from dotenv import load_dotenv\n",
    "from pprint import pprint\n",
    "import os\n",
    "from datasets import Dataset\n",
    "from typing_extensions import TypedDict\n",
    "from IPython.display import display, Image\n",
    "from typing import List, TypedDict\n",
    "\n",
    "from ragas import evaluate\n",
    "from ragas.metrics import (\n",
    "    answer_correctness,\n",
    "    faithfulness,\n",
    "    answer_relevancy,\n",
    "    context_recall,\n",
    "    answer_similarity\n",
    ")\n",
    "\n",
    "import langgraph\n",
    "\n",
    "### Helper functions for notebook\n",
    "from helper_functions import num_tokens_from_string, replace_t_with_space, replace_double_lines_with_one_line, split_into_chapters,\\\n",
    "analyse_metric_results, escape_quotes, text_wrap,extract_book_quotes_as_documents\n",
    "\n",
    "load_dotenv(override=True)"
   ]
  },
  {
   "cell_type": "markdown",
   "metadata": {},
   "source": [
    "### Setting GEMINI and GROQ API keys"
   ]
  },
  {
   "cell_type": "code",
   "execution_count": null,
   "metadata": {},
   "outputs": [],
   "source": [
    "gemini_api_key = os.getenv(\"GEMINI_API_KEY\")\n",
    "os.environ[\"GEMINI_API_KEY\"] = gemini_api_key\n",
    "groq_api_key = os.getenv(\"GROQ_API_KEY\")"
   ]
  },
  {
   "cell_type": "markdown",
   "metadata": {},
   "source": [
    "## Data preprocessing"
   ]
  },
  {
   "cell_type": "markdown",
   "metadata": {},
   "source": [
    "### define path"
   ]
  },
  {
   "cell_type": "code",
   "execution_count": 17,
   "metadata": {},
   "outputs": [],
   "source": [
    "pdf_path = \"Computer_Network_Chapter_3.pdf\""
   ]
  },
  {
   "cell_type": "markdown",
   "metadata": {},
   "source": [
    "### pdf "
   ]
  },
  {
   "cell_type": "code",
   "execution_count": 32,
   "metadata": {},
   "outputs": [],
   "source": [
    "import PyPDF2\n",
    "temp = open(pdf_path, \"rb\")\n",
    "pdf_reader = PyPDF2.PdfReader(temp)\n",
    "documents = pdf_reader.pages  # Get all pages from the PDF\n",
    "# Concatenate text from all pages\n",
    "text = \" \".join([doc.extract_text() for doc in documents])"
   ]
  },
  {
   "cell_type": "code",
   "execution_count": 33,
   "metadata": {},
   "outputs": [
    {
     "data": {
      "text/plain": [
       "'3/12/2025\\n1\\nChapter 3: \\nDatalinklayer\\n•Functionalities:\\n•Encapsulation, addressing\\n•Error detection and correction\\n•Flow control\\n•Media access control\\n1\\nOverview of Data link layer\\n21\\n2 3/12/2025\\n2TRƯỜNG CÔNG NGHỆ THÔNG TIN VÀ TRUYỀN THÔNG\\nSchool of Information and Communication Technology\\nLink layer: introduction\\nLink Layer: 6-3terminology:\\n\\uf0a7hosts and routers: nodes\\n\\uf0a7communication channels that \\nconnect adjacent nodes along \\ncommunication path: links\\n•wired \\n•wireless \\n•LANs\\n\\uf0a7layer-2 packet: frame, \\nencapsulates datagrammobile network\\nenterprise\\nnetwork\\nnational or global ISP\\ndatacenter \\nnetwork\\nlink layer has responsibility of \\ntransferring datagram from one node \\nto physically adjacent node over a li nk\\nTRƯỜNG CÔNG NGHỆ THÔNG TIN VÀ TRUYỀN THÔNG\\nSchool of Information and Communication Technology\\nDatalinklayer in Layer architecture\\n5LLC\\n(Logical Link Control)\\nMAC\\n(Media Access Control)Application\\nTransport\\nNetwork\\nData-link\\nPhysical\\n802.2 LLC\\n802.3\\nEthernet802.4\\nToken Bus802.5\\nToken Ring802.11\\nWi-Fi802.16\\nWi-Max…..\\nIEEE 802.x seriesMedia independent \\nsub-layer\\nMedia dependent sub-\\nlayer3\\n5 3/12/2025\\n3TRƯỜNG CÔNG NGHỆ THÔNG TIN VÀ TRUYỀN THÔNG\\nSchool of Information and Communication Technology\\nFunctionalities\\n6Framing\\nAddressingFlow control\\nError controlMediaAccessControl\\nDatalink layer\\nTRƯỜNG CÔNG NGHỆ THÔNG TIN VÀ TRUYỀN THÔNG\\nSchool of Information and Communication Technology\\nLink layer: context\\nLink Layer: 6-7\\uf0a7datagram transferred by \\ndifferent link protocols over \\ndifferent links:\\n•e.g., WiFion first link, Ethernet \\non next link\\n\\uf0a7each  link protocol provides \\ndifferent services\\n•e.g., may or may not provide \\nreliable data transfer over linktransportation analogy:\\n\\uf0a7trip from Princeton to Lausanne\\n•limo: Princeton to JFK\\n•plane: JFK to Geneva\\n•train: Geneva to Lausanne\\n\\uf0a7tourist = datagram\\n\\uf0a7transport segment = \\ncommunication link\\n\\uf0a7transportation mode = link-layer\\nprotocol\\n\\uf0a7travel agent = routing algorithm6\\n7 3/12/2025\\n4TRƯỜNG CÔNG NGHỆ THÔNG TIN VÀ TRUYỀN THÔNG\\nSchool of Information and Communication Technology\\nLink layer: services\\nLink Layer: 6-8\\uf0a7framing, link access:\\n•encapsulate datagram into frame, adding \\nheader, trailer\\n•channel access if shared medium\\n•“MAC” addresses in frame headers identify \\nsource, destination (different from IP \\naddress!)\\n\\uf0a7Media access control: \\n•If the nodes in the network share common \\nmedia, a Media access control protocol is \\nrequired\\n…\\n…\\nTRƯỜNG CÔNG NGHỆ THÔNG TIN VÀ TRUYỀN THÔNG\\nSchool of Information and Communication Technology\\nLink layer: services (more)\\nLink Layer: 6-9\\uf0a7flow control: \\n•pacing between adjacent sending and \\nreceiving nodes\\n\\uf0a7error detection: \\n•errors caused by signal attenuation, noise. \\n•receiver detects errors, signals \\nretransmission, or drops frame \\n\\uf0a7error correction: \\n•receiver identifies and corrects bit error(s) \\nwithout retransmission\\n\\uf0a7half-duplex and full-duplex:\\n•with half duplex, nodes at both ends of \\nlink can transmit, but not at same time\\n…\\n…8\\n9 3/12/2025\\n5TRƯỜNG CÔNG NGHỆ THÔNG TIN VÀ TRUYỀN THÔNG\\nSchool of Information and Communication Technology\\nWhere is the link layer implemented?\\nLink Layer: 6-10\\uf0a7in each-and-every host\\n\\uf0a7link layer implemented in \\nnetwork interface card (NIC) or \\non a chip\\n•Ethernet, WiFicard or chip\\n•implements link, physical layer\\n\\uf0a7attaches into host’s system \\nbuses\\n\\uf0a7combination of hardware, \\nsoftware, firmware\\ncontroller\\nphysicalcpu memory\\nhost bus \\n(e.g., PCI)\\nnetwork interface\\napplication\\ntransport\\nnetwork\\nlink\\nlink\\nphysical\\nTRƯỜNG CÔNG NGHỆ THÔNG TIN VÀ TRUYỀN THÔNG\\nSchool of Information and Communication Technology\\ncontroller\\nphysicalmemory CPUInterfaces communicating\\nLink Layer: 6-11controller\\nphysicalcpu memory\\napplication\\ntransport\\nnetwork\\nlink\\nlink\\nphysical\\napplication\\ntransport\\nnetwork\\nlink\\nlink\\nphysical\\nsending side:\\n\\uf0a7encapsulates datagram in frame\\n\\uf0a7adds error checking bits, reliable data \\ntransfer, flow control, etc.receiving side:\\n\\uf0a7looks for errors, reliable data \\ntransfer, flow control, etc.\\n\\uf0a7extracts datagram, passes to \\nupper layer at receiving sidelinkhlinkhlinkhlinkhlinkhlinkhdatagramdatagram\\ndatagram10\\n11 3/12/2025\\n6TRƯỜNG CÔNG NGHỆ THÔNG TIN VÀ TRUYỀN THÔNG\\nSchool of Information and Communication Technology\\nIdentifier: MAC address\\n•MAC address: 48 bit, organized by IEEE\\n•Each port is assigned one MAC\\n•Cannot be changed \\n•Physical address\\n•No hierarchical system, flexible\\n•MAC Address is unchanged when changing \\nnetworks\\n•Broadcast address in LAN:\\nFF-FF-FF-FF-FF-FF\\n12\\nError control\\n•Error detection\\n•Error correction\\n1612\\n16 3/12/2025\\n7TRƯỜNG CÔNG NGHỆ THÔNG TIN VÀ TRUYỀN THÔNG\\nSchool of Information and Communication Technology\\nPrinciple of error detection\\nLink Layer: 6-17EDC: error detection and correction bits (e.g., redundancy)\\nD:  data protected by error checking, may include header fields \\nError detection not 100% \\nreliable!\\n\\uf0a7protocol may miss \\nsome errors, but \\nrarely\\n\\uf0a7larger EDC field yields \\nbetter detection and \\ncorrectiondatagram\\nD EDCd data bits\\nbit-error prone linkD’ EDC’all\\nbits in D’\\nOK?N\\ndetected \\nerrorotherwisedatagram\\nTRƯỜNG CÔNG NGHỆ THÔNG TIN VÀ TRUYỀN THÔNG\\nSchool of Information and Communication Technology\\nParity code\\n•Single code\\n•Able to detect single bit error\\n20\\n\\uf06cTwo-dimension code\\n\\uf06cDetect and correct single bit error\\n\\uf06cApplication: mainly on hardware, ex: while sending data \\non PCI and SCSI bus101011\\n111100\\n011101\\n001010101011\\n101100\\n011101\\n001010A check bit is added to the original data to ensure that the \\ntotal number of bit 1 is even (even parity code) or odd (odd \\nparity code)17\\n20 3/12/2025\\n8TRƯỜNG CÔNG NGHỆ THÔNG TIN VÀ TRUYỀN THÔNG\\nSchool of Information and Communication Technology\\nParity code\\n•Sent data with Odd code:\\n•01010101 \\uf0e0Code: 1\\n•Case 1: Received data 01 110101 Received code: 1 \\n•\\uf0e0Total number of 1 : 6 \\uf0e0even number \\uf0e0Code does not match \\nwith data\\n•\\uf0e0Error\\n•Case 2: Received data 01 110100 Received code: 1\\n•Total number of bit 1 \\uf0e05\\uf0e0code matches with data\\n•\\uf0e0No error\\n•Data of m bit long \\uf0e0space of data is 2^m \\uf0e0expected to \\nhave different code for different data \\uf0e0codes must be \\n>=m bit long.\\n21\\nTRƯỜNG CÔNG NGHỆ THÔNG TIN VÀ TRUYỀN THÔNG\\nSchool of Information and Communication Technology\\nChecksum\\nLink Layer: 6-22sender:\\n\\uf0a7Divide data to n-bit \\nsegments \\n\\uf0a7Calculate the sums of \\nsegments. If having \\noverflow bits, add them to \\nthe results\\n\\uf0a7checksum: addition (one’s \\ncomplement sum) of segment \\ncontentreceiver:\\n\\uf0a7Divide data to n-bit segments \\n\\uf0a7Calculate the sums of segments. If \\nhaving overflow bits, add them to the \\nresults\\n\\uf0a7Add the received checksum with the \\nresults\\n\\uf0a7Check the final outcome\\n•Contains 0 -error detected\\n•Only 1 -no error detected. But maybe \\nerrors nonetheless?Goal:detect errors ( i.e., flipped bits) in transmitted segment21\\n22 3/12/2025\\n9TRƯỜNG CÔNG NGHỆ THÔNG TIN VÀ TRUYỀN THÔNG\\nSchool of Information and Communication Technology\\nChecksum: Example\\nData: 0011 0110 1000\\nCalculate checksum 4 bit:\\n0011\\n0110\\n1000\\n10001\\n1\\n0010\\nAlter bit -> checksum code: 1101\\nBits to send: 0011 0110 1000 1101\\n24+\\nOverflow\\nbit\\nTRƯỜNG CÔNG NGHỆ THÔNG TIN VÀ TRUYỀN THÔNG\\nSchool of Information and Communication Technology\\nChecksum: Processing on receiver\\nBits received: 0011 0110 1000 1101\\nVerification:\\n0011\\n0110\\n1000\\n1101\\n11110\\n1\\n1111 \\uf0e0no bit error\\n25+\\nOverflow \\nbit24\\n25 3/12/2025\\n10TRƯỜNG CÔNG NGHỆ THÔNG TIN VÀ TRUYỀN THÔNG\\nSchool of Information and Communication Technology\\nCyclic Redundancy Check (CRC)\\nLink Layer: 6-27\\uf0a7more powerful error-detection coding\\n\\uf0a7D: data bits (given, think of these as a binary number)\\n\\uf0a7G: bit pattern (generator), of r+1 bits (given)\\ngoal: choose rCRC bits, R, such that <D,R> exactly divisible by G (mod 2) \\n•receiver knows G, divides <D,R> by G.  If non-zero remainder: error detected!\\n•can detect all burst errors less than r+1 bits\\n•widely used in practice (Ethernet, 802.11 WiFi)rCRC bits\\nd data bits\\nDR\\n<D,R> = D  2rXOR  R  *bit pattern\\nformula for bit pattern\\nTRƯỜNG CÔNG NGHỆ THÔNG TIN VÀ TRUYỀN THÔNG\\nSchool of Information and Communication Technology\\nCRC: How to find R\\n•<D, R> = D.2r XORR\\n•Since <D, R> divides G then\\n•D.2r XORR = n.G\\n•\\uf0e8D.2r = n.GXORR\\n(associativity)\\n•This means, R is the remainder of \\nthe division D.2r by G (division \\nmodulo 2)\\n28R= D.2rmod G\\uf06cEx: D= 10101001\\n\\uf06cr= 3 bits\\n\\uf06cG=1001\\n10101001 0001001 \\n1001       1011110\\n1110\\n1001\\n1110\\n1001\\n1111\\n1001\\n1100\\n1001\\n1010\\n1001\\n110R=110, the string to send is\\n10101001 110DG\\nRD R27\\n28 3/12/2025\\n11TRƯỜNG CÔNG NGHỆ THÔNG TIN VÀ TRUYỀN THÔNG\\nSchool of Information and Communication Technology\\nCRC under polynomial form\\n•1011 \\uf0df> x3 +x +1\\n•Example of some CRC generators using in the pratice:\\n•CRC-8 = x8+ x2+ x+ 1\\n•CRC-12 = x12+x11+x3+x2+x\\n•CRC-16-CCITT = x16+ x12+ x5+ 1\\n•CRC-32 = x32+ x26+ x23+ x22+ x16+ x12+ x11+ x10+ x8+ x7+ \\nx5+ x4 + x2+ x+ 1\\n•The longer G is, the more possible that CRC detects \\nerrors.\\n•CRC is widely used in the practice\\n•Wi-fi, ATM, Ethernet… \\n•Operation XOR is implemented in hardware\\n•Capable to detect less than r+1 bits errors\\n29\\nTRƯỜNG CÔNG NGHỆ THÔNG TIN VÀ TRUYỀN THÔNG\\nSchool of Information and Communication Technology\\nCRC – Example\\nFrame : 1101011011\\nGenerator : G(x) = x4+ x + 1 \\uf0e0P = 10011\\nDividend : Fk = 1101011011 0000\\nR = Fk mod P = 1110\\nSend : 1101011011 1110\\n3029\\n30 3/12/2025\\n12TRƯỜNG CÔNG NGHỆ THÔNG TIN VÀ TRUYỀN THÔNG\\nSchool of Information and Communication Technology\\nCRC – Example\\n1101011011 0000 10011\\n10011\\n010011\\n10011\\n0000010110\\n10011\\n0010100\\n10011\\n001110 \\uf0e0Remainder:CRC\\n31\\nTRƯỜNG CÔNG NGHỆ THÔNG TIN VÀ TRUYỀN THÔNG\\nSchool of Information and Communication Technology\\nCRC – Check 1101011011 1110\\n1101011011 1110   10011\\n10011\\n010011\\n10011\\n0000010111\\n10011\\n0010011\\n10011\\n000000 \\uf0e0No errors\\n3231\\n32 3/12/2025\\n13TRƯỜNG CÔNG NGHỆ THÔNG TIN VÀ TRUYỀN THÔNG\\nSchool of Information and Communication Technology\\nCRC – Check 1101001011 1110\\n331101001011 1110   10011\\n10011\\n010010\\n10011\\n000011011\\n10011\\n010001\\n10011\\n00010110\\n10011\\n00101 \\uf0e0not 0 \\uf0e0errors\\nTRƯỜNG CÔNG NGHỆ THÔNG TIN VÀ TRUYỀN THÔNG\\nSchool of Information and Communication Technology\\nReactionwhen errorsdetected\\n•Objective: to assure thatdata \\nare receivedcorrectlyeven\\nthough the chanel is not \\nrealiable.\\n•Constraint\\n•Data frame must be\\ncorrectlyreceived\\n•Negligible transmission \\ndelay.\\n•Possible errors\\n•Whole frame loss\\n•Error frame\\n•Loss of error warning \\nmessage•Popular techniques: \\n•Errordetection (as we seen)\\n•Acknowledgement/confirmation \\n•Retransmis after a clear\\nconfirmation that frame is not \\narrived\\n•Retransmis after timeout\\n•ARQ technique: automatic repeat\\nrequest). There are 3 versions:\\n•Stop and Wait ARQ\\n•Go Back N ARQ\\n•SelectiveReject ARQ\\n•Similar to techniques used in flow \\ncontrol.\\n3433\\n34 3/12/2025\\n14TRƯỜNG CÔNG NGHỆ THÔNG TIN VÀ TRUYỀN THÔNG\\nSchool of Information and Communication Technology\\nStop-and-wait ARQ\\n35\\nTimeSender Receiver\\nsend pkt0 \\npkt1 is \\ncorruptedrcv ACK \\nsend pkt1 \\nrcv NAK \\nresend pkt1 pkt0 is \\nOKNormal case\\nTRƯỜNG CÔNG NGHỆ THÔNG TIN VÀ TRUYỀN THÔNG\\nSchool of Information and Communication Technology\\nStop-and-wait ARQ\\n•ACK error, resend the \\nprevious packet\\n•Duplicated packets \\nproblem.\\n•To eliminate repeated \\npacket: Use Seq.#\\n•All packets are assigned \\nSeq# before sending out. \\nRepeated packet has \\nidentical Seq#\\n36\\nSender Receiver\\nsend pkt0 \\npkt1 is \\nOKrcv ACK \\nsend pkt1 \\nrcv sth corrupted ! \\nresend pkt1 pkt0 is \\nOK\\nrcv pkt1 \\nduplicate, \\ndiscard itError ACK/NAK\\nTime35\\n36 3/12/2025\\n15TRƯỜNG CÔNG NGHỆ THÔNG TIN VÀ TRUYỀN THÔNG\\nSchool of Information and Communication Technology\\nStop-and-wait ARQ\\n•ACK packet carries \\n#Seq of the packet to \\nbe acknowledged. \\nThis number is called \\nacknowledgment  \\nnumber\\n•An ACK with \\nacknowledgment  \\nnumber n implicitly \\nconfirms that all \\npacket with #seq \\nnumber < =n have \\nbeen well received\\n37pkt2 is corrupted\\nSender Receiver\\nsend pkt0 \\npkt1 is \\nOKrcv ACK0 \\nsend pkt1 \\nrcv ACK1 \\nsend pkt2 pkt0 is \\nOK\\nrcv ACK1 \\nresendpkt2 \\nTimenot using NAK \\nTRƯỜNG CÔNG NGHỆ THÔNG TIN VÀ TRUYỀN THÔNG\\nSchool of Information and Communication Technology\\nStop-and-wait ARQ: When ACK is lost\\n•Data packet and ACK packet may be lost\\n•No ACK is received at sender side\\n•How a sender decides to resends data or not?\\n•Solution:\\n•After sending out a packet, sender starts a timer specifying \\nmaximum waiting time (timeout) for an ACK of the packet.  \\n•When timeout expired sender re-sends the packet\\n•How long a Timeout should be?\\n•At least 1 RTT (Round Trip Time)\\n•If a packet arrives at the destination but its ACK is lost, the \\npacket is still resent because associated timeout expired.\\n•The duplicated packets are eliminated at the receiver side \\naccording to repeated #seq.\\n3837\\n38 3/12/2025\\n16TRƯỜNG CÔNG NGHỆ THÔNG TIN VÀ TRUYỀN THÔNG\\nSchool of Information and Communication Technology\\nARQ with timeout\\n39\\nTRƯỜNG CÔNG NGHỆ THÔNG TIN VÀ TRUYỀN THÔNG\\nSchool of Information and Communication Technology\\nARQ with timeout\\n40\\n39\\n40 3/12/2025\\n17\\nFlow control\\n41\\nTRƯỜNG CÔNG NGHỆ THÔNG TIN VÀ TRUYỀN THÔNG\\nSchool of Information and Communication Technology\\n42Whatisflow control \\n•Goal: Make sure that the sender does not overload the receiver\\n•Why overloading?\\n•The receiver stores data frame in buffer.\\n•Receiver performs some processing beforedeliver data to the upper\\nlevel.\\n•Buffer couldbe full, leaving no spacefor receiving more frame \\uf0e0some\\ndata frame must bedropped.\\n•Problem of errors in transmission is excluded\\n•All frames are transmitted to correct receiver without error\\n•Propagation time is small and couldbeignored\\n•Solution\\n•Stop-and-wait mechanism\\n•Sliding windowmechanism41\\n42 3/12/2025\\n18TRƯỜNG CÔNG NGHỆ THÔNG TIN VÀ TRUYỀN THÔNG\\nSchool of Information and Communication Technology\\n43Stop-and-wait\\n•Principles\\n•Transmittersends a single frame\\n•Receiverreceivesthe frame, process and then\\ninforms the transmitterthat it is ready to receives\\nnext frames by a clearacknowledgement(ACK).\\n•Transmitterwaitsuntil receptionof the ACK before\\nsending next frames.\\nTRƯỜNG CÔNG NGHỆ THÔNG TIN VÀ TRUYỀN THÔNG\\nSchool of Information and Communication Technology\\nStop-and-wait\\n44Emetteur Récepteur \\nTrâme \\nTrâme Paquets \\nAck \\nTrâme \\nTrâme Paquets \\nframe\\nframe\\nframePacketPackettransmitter receiver43\\n44 3/12/2025\\n19TRƯỜNG CÔNG NGHỆ THÔNG TIN VÀ TRUYỀN THÔNG\\nSchool of Information and Communication Technology\\n45Stop-and-wait\\n•Advantage\\n•Simple, suitablefor transmission of bigsize \\nframes\\n•Weakness\\n•Whenframes are small, the transmission \\nchannel are not usedefficiently.\\n•Cannot use often for big size frame due to \\n•Limitation in buffer size\\n•Big size frame prones to bigger error probability\\n•In shared medium, it isnot convenientto leave\\none station using medium for long time\\nTRƯỜNG CÔNG NGHỆ THÔNG TIN VÀ TRUYỀN THÔNG\\nSchool of Information and Communication Technology\\n46Slidingwindow: principle\\n•Transmittersends more thanone frame withoutwaiting\\nin order to reduce waitingtime\\n•Transmitted frame withoutACK willstillbe stored in \\nbuffer.\\n•Number of frames to be transmitted withoutACK \\ndependson the size of buffer at transmitter\\n•Whentransmitter receivesACK, it realisesthe \\nsuccesfullytransmitted frame from buffers\\n•Transmittercontinues sending a numberof frame \\nequivalent to the numberof succesfully\\ntrasmittedframes.45\\n46 3/12/2025\\n20TRƯỜNG CÔNG NGHỆ THÔNG TIN VÀ TRUYỀN THÔNG\\nSchool of Information and Communication Technology\\n47Slidingwindow: principle\\n•Assume thatA and B are two stations connectedby a full \\nduplex media\\n•B has a buffer size of n frame.\\n•B can receivesn frame without sending ACK\\n•Acknowledgement\\n•In order to keep track of ACKed frames. It is neccessary to \\nnumber frames.\\n•B acknowledge a frame by telling A which frame B is waiting\\nfor (by number of frame), implicitelysaying that B receives\\nwell all other frame before that.\\n•One ACK frame serves for acknowledes several frames.\\nTRƯỜNG CÔNG NGHỆ THÔNG TIN VÀ TRUYỀN THÔNG\\nSchool of Information and Communication Technology\\n48Slidingwindows: principle\\nWindow list the frames to transmit Window list the frames in waiting to receive 47\\n48 3/12/2025\\n21TRƯỜNG CÔNG NGHỆ THÔNG TIN VÀ TRUYỀN THÔNG\\nSchool of Information and Communication Technology\\n49Slidingwindows\\nTRƯỜNG CÔNG NGHỆ THÔNG TIN VÀ TRUYỀN THÔNG\\nSchool of Information and Communication Technology\\n50Slidingwindows\\n•Frame are numbered. The maximum number must \\nnot be smaller than the size of the window.\\n•Frame are ACKed by another message with\\nnumber\\n•Accumulated ACK: If frame 1,2,3,4 are well\\nreceived, just send ACK 4\\n•ACK with number k means all frame k-1, k-2 \\n…already well received.49\\n50 3/12/2025\\n22TRƯỜNG CÔNG NGHỆ THÔNG TIN VÀ TRUYỀN THÔNG\\nSchool of Information and Communication Technology\\n51Slidingwindows\\n•Transmitter needs to manage some information:\\n•List of frames transmitted sucessfully\\n•List of frames transmitted without ACK\\n•List of frames to be sent immediately\\n•List of frames NOT to be sent immediately\\n•Receiver keep tracks of\\n•List of frames well received \\n•List of frames expected to receive\\nTRƯỜNG CÔNG NGHỆ THÔNG TIN VÀ TRUYỀN THÔNG\\nSchool of Information and Communication Technology\\n52Piggybacking\\n•A and B transmit data in bothsides\\n•WhenB needsto send an ACK whilestillneedsto \\nsend data, B attaches the ACK in the Data frame: \\nPiggybacking\\n•Otherwise, B can send an ACK frame separately\\n•AfterACK, if B sendssome otherdata, it stillput \\nthe ACK information in data frame.\\n•Sliding window ismuch more efficient than Stop-\\nand-Wait\\n•More complicated in management.51\\n52 3/12/2025\\n23TRƯỜNG CÔNG NGHỆ THÔNG TIN VÀ TRUYỀN THÔNG\\nSchool of Information and Communication Technology\\nExercices\\n•Given a link with rate R=100Mbps\\n•We need to send a file over data link layer with file size L=100KB\\n•Assume that the size of a frame is: 1KB, header size is ignored\\n•Round trip time (RTT) between 2 ends of the link is 3ms\\n•An ACK message is sent back from receiver whenever a frame is \\narrived. Size of ACK message is negligible\\n•What is the transmission time required if using Stop-and-wait \\nmechanism?\\n•Transmission time with sliding window if the window size is =7?\\n•Which size of window allow to obtain the fastest transmission?\\n53\\nTRƯỜNG CÔNG NGHỆ THÔNG TIN VÀ TRUYỀN THÔNG\\nSchool of Information and Communication Technology\\nTransmission time with Stop-and-wait\\n54Emetteur Récepteur \\nTrâme \\nTrâme Paquets \\nAck \\nTrâme \\nTrâme Paquets \\nframe\\nframe\\nframePacketPackettransmitter receiver\\nT transmit\\nRTT53\\n54 3/12/2025\\n24\\nMedia access control\\n56\\nTRƯỜNG CÔNG NGHỆ THÔNG TIN VÀ TRUYỀN THÔNG\\nSchool of Information and Communication Technology\\nConnection types\\n•Point-to-point\\n•ADSL\\n•Telephone modem\\n•Leased Line….\\n•Broadcast\\n•LAN using bus topology \\n•Wireless LAN\\n•HFC:\\n•…\\n•Broadcast networks need media access control \\nprotocol in order to avoid collision when nodes try \\nto send data.\\n5756\\n57 3/12/2025\\n25TRƯỜNG CÔNG NGHỆ THÔNG TIN VÀ TRUYỀN THÔNG\\nSchool of Information and Communication Technology\\nMultiple access links, protocols\\nLink Layer: 6-58two types of “links”:\\n\\uf0a7point-to-point\\n•point-to-point link between Ethernet switch, host\\n•PPP for dial-up access\\n\\uf0a7broadcast (shared wire or medium)\\n•old-fashioned Ethernet\\n•upstream HFC in cable-based access network\\n•802.11 wireless LAN, 4G/4G. satellite\\nshared wire (e.g., \\ncabled Ethernet)shared radio: WiFi shared radio: satellite humans at a cocktail party \\n(shared air, acoustical)\\nshared radio: 4G/5G\\nTRƯỜNG CÔNG NGHỆ THÔNG TIN VÀ TRUYỀN THÔNG\\nSchool of Information and Communication Technology\\nMultiple access protocols\\nLink Layer: 6-59\\uf0a7single shared broadcast channel \\n\\uf0a7two or more simultaneous transmissions by nodes: interference \\n•collisionif node receives two or more signals at the same time\\n\\uf0a7distributed algorithm that determines how nodes share channel, \\ni.e., determine when node can transmit\\n\\uf0a7communication about channel sharing must use channel itself! \\n•no out-of-band channel for coordinationmultiple access protocol58\\n59 3/12/2025\\n26TRƯỜNG CÔNG NGHỆ THÔNG TIN VÀ TRUYỀN THÔNG\\nSchool of Information and Communication Technology\\nAn ideal multiple access protocol\\nLink Layer: 6-60given: multiple access channel (MAC) of rate Rbps\\ndesiderata:\\n1. when one node wants to transmit, it can send at rate R.\\n2. when M nodes want to transmit, each can send at average \\nrate R/M\\n3. fully decentralized:\\n•no special node to coordinate transmissions\\n•no synchronization of clocks, slots\\n4. simple\\nTRƯỜNG CÔNG NGHỆ THÔNG TIN VÀ TRUYỀN THÔNG\\nSchool of Information and Communication Technology\\nMAC protocols: taxonomy\\nLink Layer: 6-61three broad classes:\\n\\uf0a7channel partitioning\\n•divide channel into smaller “pieces” (time slots, frequency, code)\\n•allocate piece to node for exclusive use\\n•e.g. time -TDMA, frequency-FDMA, Code-CDMA\\n\\uf0a7random access\\n•channel not divided, allow collisions\\n•“recover”from collisions\\n•e.g. Pure Aloha, Slotted Aloha, CSMA/CD, CSMA/CA…\\n\\uf0a7“taking turns” (sequence access)\\n•nodes take turns, but nodes with more to send can take longer turns\\n•Token Ring, Token Bus60\\n61 3/12/2025\\n27TRƯỜNG CÔNG NGHỆ THÔNG TIN VÀ TRUYỀN THÔNG\\nSchool of Information and Communication Technology\\nChannel division\\n•FDMA: frequency division multiple access\\n•TDMA: time division multiple access\\n•CDMA: code division multiple access\\n63\\nTRƯỜNG CÔNG NGHỆ THÔNG TIN VÀ TRUYỀN THÔNG\\nSchool of Information and Communication Technology\\nTDMA vàFDMA\\n64FDMA\\nfrequency\\ntime\\nTDMA:\\nfrequency\\ntime4 stationsexample63\\n64 3/12/2025\\n28TRƯỜNG CÔNG NGHỆ THÔNG TIN VÀ TRUYỀN THÔNG\\nSchool of Information and Communication Technology\\nCDMA\\n•Several senders can share the same frequency on a \\nsingle physical channel.\\n•Signals come from different senders are encoded \\n(multiplied) with different random code. Those code \\nmust be orthogonal. \\n•Encoded signals are mixed and then transmit on a \\ncommon frequency.\\n•The signals are recovered at the receiver by using \\nfinding the correlation with the same codes as at \\nsender side. \\n•CDMAshows a lot of advantages that other \\ntechnology cannot achieve. For example, the same \\nfrequency can be used in adjacent mobile cell \\nwithout interference as if TDMA or FDMA are used \\n65\\nTRƯỜNG CÔNG NGHỆ THÔNG TIN VÀ TRUYỀN THÔNG\\nSchool of Information and Communication Technology\\nCDMA (example)\\n66\\n65\\n66 3/12/2025\\n29TRƯỜNG CÔNG NGHỆ THÔNG TIN VÀ TRUYỀN THÔNG\\nSchool of Information and Communication Technology\\nRandom access: Pure Aloha\\n•Aloha is used in mobile network of \\n1G, 2.5G, 3G using GSM technology .\\n•Pure Aloha:\\n•When one sender has data to send, just \\nsends it \\n•If while sending, the senders receive data \\nfrom other stations \\uf0e0there is collision. \\nAll stations need to resend their data. \\n•There are possibility to have collision \\nwhen retransmit.\\n•Problem: Sender does not check to see if \\nthe chanel is free before sending data\\n•Grey package are having overlap in \\ntime\\uf0e0causing collision\\n68\\nTRƯỜNG CÔNG NGHỆ THÔNG TIN VÀ TRUYỀN THÔNG\\nSchool of Information and Communication Technology\\nRandom access: Slotted Aloha\\n•Times axe is divided into \\nequal slots.\\n•Each station sends data only \\nat the beginning of a time \\nslot. \\n•\\uf0e8Collision possibility is \\nreduced\\n•Still have collision in grey \\npackage\\n69\\n68\\n69 3/12/2025\\n30TRƯỜNG CÔNG NGHỆ THÔNG TIN VÀ TRUYỀN THÔNG\\nSchool of Information and Communication Technology\\nRandom access: CSMA\\n•CSMA: Carrier Sense Multiple Access \\n•CSMA idea is similar to what happens in a meeting.\\n•CSMA: \\n• The sender “Listen before talk”\\n• If the channel is busy, wait\\n• If the chanel is free, transmit\\n70\\nTRƯỜNG CÔNG NGHỆ THÔNG TIN VÀ TRUYỀN THÔNG\\nSchool of Information and Communication Technology\\nCSMA\\n•CSMA:Sender listens before transmission:\\n•If the channel is free, send all the data\\n•If the channel is busy, wait.\\n•Why there are still collision? \\n•Due to propagation delay\\n7170\\n71 3/12/2025\\n31TRƯỜNG CÔNG NGHỆ THÔNG TIN VÀ TRUYỀN THÔNG\\nSchool of Information and Communication Technology\\n72Collision in CSMA\\n•Assume that there are 4 \\nnodes in the channel\\n•The propagation of the \\nsignal from one node to the \\nother requires a certain \\ndelay.\\n•Ex:  \\n•Transmissions from B and D \\ncause collision\\nspatial layout of nodes \\nTRƯỜNG CÔNG NGHỆ THÔNG TIN VÀ TRUYỀN THÔNG\\nSchool of Information and Communication Technology\\nCSMA/CA (Collision Avoidance)\\n•CSMA/CA is used WIFI standard IEEE 802.11\\n•If two stations discover that the channel is busy, and \\nboth wait then it is possible that they will try to \\nresend data in the same time.\\n•\\uf0e0collision\\n•Solution CSMA/CA.\\n•Each station wait for a random period \\uf0e0reduce the \\ncollision possibility\\n7372\\n73 3/12/2025\\n32TRƯỜNG CÔNG NGHỆ THÔNG TIN VÀ TRUYỀN THÔNG\\nSchool of Information and Communication Technology\\nCSMA/CD\\n•Used in Ethernet\\n•CSMA with Collision \\nDetection: \\n•“Listen while talk”.\\n•A sender listen to the \\nchannel, \\n•If the channel is free then \\ntransmit data\\n•While a station transmit data, it \\nlistens to the channel. If it \\ndetects a collision then transmits \\na short signal warning the \\ncollision then stop\\n•Do not continue the \\ntransmission even in collision as \\nCSMA\\n•If the channel is busy, wait \\nthen transmit with \\nprobability p\\n•Retransmit after a random \\nwaiting time.\\n74\\nTRƯỜNG CÔNG NGHỆ THÔNG TIN VÀ TRUYỀN THÔNG\\nSchool of Information and Communication Technology\\nComparison between channel division and \\nrandom access \\n•Channel division\\n•Efficient, treat stations equally.\\n•Waste of resources if one station has much smaller data \\nto send than the others\\n•Random access\\n•When total load is small: Efficient since each station can \\nuse the whole chanel\\n•When total load is large: Collision possibility increases.\\n•Token control: compromise between the two \\nabove methods.\\n7574\\n75 3/12/2025\\n33TRƯỜNG CÔNG NGHỆ THÔNG TIN VÀ TRUYỀN THÔNG\\nSchool of Information and Communication Technology\\n“Taking turns” MAC protocols\\nLink Layer: 6-76\\npolling:\\n\\uf0a7master node “invites” other nodes \\nto transmit in turn\\n\\uf0a7typically used with “dumb” \\ndevices\\n\\uf0a7concerns:\\n•polling overhead \\n•latency\\n•single point of failure (master)master\\nslavespoll\\ndatadata\\nTRƯỜNG CÔNG NGHỆ THÔNG TIN VÀ TRUYỀN THÔNG\\nSchool of Information and Communication Technology\\nToken Ring\\n77\\uf06cA “token”is passed from \\none node to the other in \\na ring topo\\n\\uf06cOnly the token holder can \\ntransmit data\\n\\uf06cAfter finishing sending \\ndata, the token need to \\nbe passed to next nodes.\\n\\uf06cSome problem\\n\\uf06cTime consuming in passing \\ntoken\\n\\uf06cLoss of token due to some \\nreasonsT\\ndata(nothing\\nto send)\\nT76\\n77 3/12/2025\\n34TRƯỜNG CÔNG NGHỆ THÔNG TIN VÀ TRUYỀN THÔNG\\nSchool of Information and Communication Technology\\nSummary on Media access control mechanisms\\n•Channel division\\n•Random access\\n•Token\\n•What do you thinks about their advantages and \\nweaknesses ?\\n78\\nPoint-to-Point forwarding \\nmechanism\\nHub, Switch, Bridge\\n7978\\n79 3/12/2025\\n35TRƯỜNG CÔNG NGHỆ THÔNG TIN VÀ TRUYỀN THÔNG\\nSchool of Information and Communication Technology\\nDevices of LAN\\n\\uf06cRepeater, Hub, bridge and switch\\n\\uf06cAll are LAN devices with many ports\\n\\uf06cRepeater:\\n\\uf06cRepeats the bits received in one port to the other \\nport\\n\\uf06cOne network with repeaters = one collision domain\\n\\uf06cRepeater is a physical layer system.\\n\\uf06cHub: \\n\\uf06cReceive the signal from one port (amplify ) and \\nforward to the remaining ports\\n\\uf06cDo not offer services of datalinklayer\\n\\uf06cLayer 1 intermediate system\\n80\\nTRƯỜNG CÔNG NGHỆ THÔNG TIN VÀ TRUYỀN THÔNG\\nSchool of Information and Communication Technology\\nHub\\n81Hub=Multiple port repeater\\nSingle collision domain\\nReceive the signal from one port (amplify ) and forward to the remaining ports80\\n81 3/12/2025\\n36TRƯỜNG CÔNG NGHỆ THÔNG TIN VÀ TRUYỀN THÔNG\\nSchool of Information and Communication Technology\\nDevices of LAN (cont.)\\n\\uf06cBridge\\n\\uf06cMore intelligent than hub\\n\\uf06cCan store and forward data (Ethernet frame) \\naccording to MAC address.\\n\\uf06cBridge breaks the network into two collision \\ndomains.\\n\\uf06cLayer 2 intermediate system\\n\\uf06cSwitch\\n\\uf06cMore ports than bridge\\n\\uf06cCan store and forward data according to \\nMAC address\\n\\uf06cReceive full frame, check error, forward\\n82\\nTRƯỜNG CÔNG NGHỆ THÔNG TIN VÀ TRUYỀN THÔNG\\nSchool of Information and Communication Technology\\nBridge\\nbridge\\nhub hub\\n83Two ports systems\\n- Forward frames from one port to the other based on MAC address\\n- Create two collision domains 82\\n83 3/12/2025\\n37TRƯỜNG CÔNG NGHỆ THÔNG TIN VÀ TRUYỀN THÔNG\\nSchool of Information and Communication Technology\\nSwitch: multiple simultaneous transmissions\\nLink Layer: 6-84switch with six \\ninterfaces ( 1,2,3,4,5,6 )  A\\nA’B\\nB’ CC’\\n12\\n3\\n456\\n\\uf0a7hosts have dedicated, direct \\nconnection to switch\\n\\uf0a7switches buffer packets\\n\\uf0a7Ethernet protocol used on each\\nincoming link, so: \\n•no collisions; full duplex\\n•each link is its own collision \\ndomain\\n\\uf0a7switching: A-to-A’ and B-to-B’can transmit \\nsimultaneously, without collisions\\nTRƯỜNG CÔNG NGHỆ THÔNG TIN VÀ TRUYỀN THÔNG\\nSchool of Information and Communication Technology\\nSwitch: multiple simultaneous transmissions\\nLink Layer: 6-85switch with six \\ninterfaces ( 1,2,3,4,5,6 )  A\\nA’B\\nB’ CC’\\n12\\n3\\n456\\n\\uf0a7hosts have dedicated, direct \\nconnection to switch\\n\\uf0a7switches buffer packets\\n\\uf0a7Ethernet protocol used on each\\nincoming link, so: \\n•no collisions; full duplex\\n•each link is its own collision \\ndomain\\n\\uf0a7switching: A-to-A’ and B-to-B’can transmit \\nsimultaneously, without collisions\\n•but A-to-A’ and C to A’ can not happen \\nsimultaneously \\n84\\n85 3/12/2025\\n38TRƯỜNG CÔNG NGHỆ THÔNG TIN VÀ TRUYỀN THÔNG\\nSchool of Information and Communication Technology\\nSwitch forwarding table\\nLink Layer: 6-86A\\nA’B\\nB’ CC’\\n12\\n3\\n456\\nQ:how does switch know A’ reachable via \\ninterface 4, B’ reachable via interface 5?\\nA:each switch has a switch table, each \\nentry:\\n\\uf0a7(MAC address of host, interface to reach \\nhost, time stamp)\\n\\uf0a7looks like a routing table! (Network layer)\\nQ:how are entries created, maintained \\nin switch table? \\n\\uf0a7something like an algorithm?\\nTRƯỜNG CÔNG NGHỆ THÔNG TIN VÀ TRUYỀN THÔNG\\nSchool of Information and Communication Technology\\nSwitch: self-learning\\nLink Layer: 6-87A\\nA’B\\nB’ CC’\\n12\\n3\\n456\\n\\uf0a7switchlearnswhich hosts \\ncan be reached through \\nwhich interfacesA A’Source: A\\nDest: A’\\nMAC addr   interface    TTLSwitch table \\n(initially empty)\\nA 160•when frame received, switch \\n“learns”  location of sender: \\nincoming LAN segment\\n•records sender/location pair \\nin switch table86\\n87 3/12/2025\\n39TRƯỜNG CÔNG NGHỆ THÔNG TIN VÀ TRUYỀN THÔNG\\nSchool of Information and Communication Technology\\nSwitch: frame filtering/forwarding\\nLink Layer: 6-88when  frame received at switch:\\n1. record incoming link, MAC address of sending host\\n2. index switch table using MAC destination address\\n3. ifentry found for destination\\nthen {\\nifdestination on segment from which frame arrived\\nthendrop frame\\nelseforward frame on interface indicated by entry\\n}\\nelseflood  /* forward on all interfaces except arriving interface */\\nTRƯỜNG CÔNG NGHỆ THÔNG TIN VÀ TRUYỀN THÔNG\\nSchool of Information and Communication Technology\\nA\\nA’B\\nB’ CC’\\n12\\n3\\n456\\nSelf-learning, forwarding: example\\nLink Layer: 6-89A A’Source: A\\nDest: A’\\nMAC addr   interface    TTL\\nswitch table \\n(initially empty)A 1 60A A’A A’A A’A A’A A’\\nA’A\\nA’ 460\\uf0a7frame destination, A’, \\nlocation unknown: flood\\n\\uf0a7destination A location \\nknown:selectively send \\non just one link88\\n89 3/12/2025\\n40TRƯỜNG CÔNG NGHỆ THÔNG TIN VÀ TRUYỀN THÔNG\\nSchool of Information and Communication Technology\\nInterconnecting switches\\nLink Layer: 6-90self-learning switches can be connected together:\\nQ:sending from A to G -how does S1know to forward frame destined \\nto G via S4and S3?\\n\\uf0a7A:self learning! (works exactly the same as in single-switch case!)A\\nBS1\\nC\\nD\\nEFS2S4\\nS3\\nHI\\nG\\n11\\n1\\n1\\n22\\n2233\\n334 4\\n4\\nTRƯỜNG CÔNG NGHỆ THÔNG TIN VÀ TRUYỀN THÔNG\\nSchool of Information and Communication Technology\\nSelf-learning multi-switch example\\nLink Layer: 6-91Suppose C sends frame to I, I responds to C\\nQ:show switch (MAC) tables and packet forwarding in S1, S2, S3, S4A\\nBS1\\nC\\nD\\nEFS2S4\\nS3\\nHI\\nG\\n11\\n1\\n1\\n22\\n2233\\n334 4\\n490\\n91 3/12/2025\\n41TRƯỜNG CÔNG NGHỆ THÔNG TIN VÀ TRUYỀN THÔNG\\nSchool of Information and Communication Technology\\nA typical LAN\\n92Connect to \\noutside\\nrouter\\nIP subnetmail server\\nweb server\\nTRƯỜNG CÔNG NGHỆ THÔNG TIN VÀ TRUYỀN THÔNG\\nSchool of Information and Communication Technology\\nSwitches vs. routers\\nLink Layer: 6-93\\napplication\\ntransport\\nnetwork\\nlink\\nphysical\\nnetwork\\nlink\\nphysicallink\\nphysical\\nswitchdatagram\\napplication\\ntransport\\nnetwork\\nlink\\nphysical\\nframe\\nframe\\nframedatagram\\n6-93\\nboth are store-and-forward: \\n\\uf0a7routers: network-layer devices (examine \\nnetwork-layer headers)\\n\\uf0a7switches: link-layer devices (examine \\nlink-layer headers)\\nboth have forwarding tables:\\n\\uf0a7routers: compute tables using routing \\nalgorithms, IP addresses\\n\\uf0a7switches: learn forwarding table using \\nflooding, learning, MAC addresses 92\\n93 3/12/2025\\n42TRƯỜNG CÔNG NGHỆ THÔNG TIN VÀ TRUYỀN THÔNG\\nSchool of Information and Communication Technology\\nRouter connects LANs\\n94Example: Send data from A to B through \\nrouter R\\n•A prepare an IP packet with original address of \\nA and destination address of B\\n•Forward the packet to datalink layer: \\nencapsulate it to a data-link frame with Original \\nMAC Address of A and destination MAC \\naddress of R\\nR\\n1A-23-F9-CD-06-9B222.222.222.220\\n111.111.111.110\\nE6-E9-00-17-BB-4BCC-49-DE-D0-AB-7D111.111.111.112111.111.111.111\\n74-29-9C-E8-FF-55A\\n222.222.222.222\\n49-BD-D2-C7-56-2A\\n222.222.222.221\\n88-B2-2F-54-1A-0FB\\nIP\\nEth\\nPhyIP src: 111.111.111.111\\nIP dest: 222.222.222.222MAC src: 74-29-9C-E8-FF-55\\nMAC dest: E6-E9-00-17-BB-4B\\nSwitchSwitch\\nTRƯỜNG CÔNG NGHỆ THÔNG TIN VÀ TRUYỀN THÔNG\\nSchool of Information and Communication Technology\\nForward data to other LANs\\n95\\nR\\n1A-23-F9-CD-06-9B222.222.222.220\\n111.111.111.110\\nE6-E9-00-17-BB-4BCC-49-DE-D0-AB-7D111.111.111.112111.111.111.111\\n74-29-9C-E8-FF-55A\\n222.222.222.222\\n49-BD-D2-C7-56-2A\\n222.222.222.221\\n88-B2-2F-54-1A-0FB\\nIP\\nEth\\nPhy❖The frame is forwarded \\nfrom A to R\\nIP\\nEth\\nPhy❖At R: the frame header is \\nremoved and forwarded to \\nupper layer as an IP packetMAC src: 74-29-9C-E8-FF-55\\nMAC dest: E6-E9-00-17-BB-4B\\nIP src: 111.111.111.111\\nIP dest: 222.222.222.222IP src: 111.111.111.111\\nIP dest: 222.222.222.22294\\n95 3/12/2025\\n43\\nLAN: Local Area Network\\nReading: 4.3 Computer Networks, Tanenbaum\\n96\\nTRƯỜNG CÔNG NGHỆ THÔNG TIN VÀ TRUYỀN THÔNG\\nSchool of Information and Communication Technology\\nLAN topology\\n97\\nTraditional bus \\ntopo\\nRingWLAN\\nhub, switch\\nStar96\\n97 3/12/2025\\n44TRƯỜNG CÔNG NGHỆ THÔNG TIN VÀ TRUYỀN THÔNG\\nSchool of Information and Communication Technology\\nLAN standards: IEEE 802.x\\n•IEEE 802.1 Network Management\\n•IEEE 802.2 Logical link control\\n•IEEE 802.3 Ethernet (CSMA/CD)\\n•IEEE 802.4 Token bus\\n•IEEE 802.5 Token Ring\\n•IEEE 802.6 Metropolitan Area \\nNetworks\\n•IEEE 802.7 Broadband LAN using \\nCoaxial Cable\\n•IEEE 802.8 Fiber Optic TAG\\n•IEEE 802.9 Integrated Services \\nLAN\\n•IEEE 802.10 Interoperable LAN \\nSecurity \\n•IEEE 802.11 Wireless LAN\\n98\\n• IEEE 802.12 demand priority\\n• IEEE 802.14 Cable modems\\n• IEEE 802.15 Wireless PAN\\n• IEEE 802.15.1 (Bluetooth)\\n• IEEE 802.15.4 (ZigBee)\\n• IEEE 802.16 WiMAX\\n• V.v…\\nTRƯỜNG CÔNG NGHỆ THÔNG TIN VÀ TRUYỀN THÔNG\\nSchool of Information and Communication Technology\\nLLC: IEEE802.2\\n•Roles: \\n•Connect with protocols of Network Layer: IPX, DCE, IP, \\nv.v..\\n•With different physical layers: cable, wireless, optical\\n•Functionalities: \\n•Multiplexing/ Demultiplexing\\n•Flow control with 3 different modes:\\n•Unacknowledged connectionless\\n•Acknowledged connectionless\\n•Connection mode\\n•Frame structure:\\n•DSAP & SSAP: Destination/Source SAP,  for \\nMultiplexing/ Demultiplexing of the upper layer (which \\nentity of the Network Layer is sending/ receiving LLC \\nframes)\\n•Control: define PDU to transfer and control:\\n•U-frame: send/receive in connectionless mode (U: Unnumbered) \\n•I-frame: frame with information (I: Information), used in \\nacknowledged mode\\n•S-frame: for controlling (S: Supervisor)\\n99\\n98\\n99 3/12/2025\\n45TRƯỜNG CÔNG NGHỆ THÔNG TIN VÀ TRUYỀN THÔNG\\nSchool of Information and Communication Technology\\nPractical LLC\\n•Error checking and flow control (I-frame and S-frame) are \\nused by some upper protocols (NetBIOS).\\n•U-frame encapsulate PDU without numbering (unnumbered) \\nand therefore NO flow control or error checking are \\nprovided.\\n•Most upper protocols of LLC (TCP/TP) support error \\nchecking and flow control\\n•Only use LLC as “Unacknowledged connectionless” with U-frame. \\n100\\nTRƯỜNG CÔNG NGHỆ THÔNG TIN VÀ TRUYỀN THÔNG\\nSchool of Information and Communication Technology\\nEthernet LAN\\n•Layer 2 technology for communication in LAN, invented in \\n1976\\n•Standardized in IEEE 802.3\\n•Ethernet LAN could have different speeds: 3 Mbps – 10 Gbps \\n•Ethernet: 10BaseT, 10Base2… \\n•Fast Ethernet: 100BaseT\\n•Giga Ethernet\\n101\\nMetcalfe ’s Ethernet\\nsketch100\\n101 3/12/2025\\n46TRƯỜNG CÔNG NGHỆ THÔNG TIN VÀ TRUYỀN THÔNG\\nSchool of Information and Communication Technology\\nIEEE 802.3 and Ethernet Standards\\n\\uf06cDatalink& Physical Layers\\n\\uf06cDatalink= LLC + MAC\\n\\uf06cMAC: CSMA/CD in classical Ethernet\\n\\uf06cSeveral type of Ethernet \\n\\uf06cSame MAC and frame structure\\n\\uf06cDifferent rate: 2 Mbps, 10 Mbps, 100 Mbps, 1Gbps, 10G bps\\n\\uf06cDifferent cable: Optical fiber, coaxial, twisted pair\\n102\\napplication\\ntransport\\nnetwork\\nlink\\nphysicalMAC protocol\\nand frame format\\n100BASE-TX\\n100BASE-T4100BASE-FX 100BASE-T2\\n100BASE-SX 100BASE-BX\\nfiber physical layer copper (twister\\npair) physical layer\\nTRƯỜNG CÔNG NGHỆ THÔNG TIN VÀ TRUYỀN THÔNG\\nSchool of Information and Communication Technology\\n\\uf06cEthernet frame\\n•Preamble: Marking the starting of a frame\\n•Address: Physical addresses of source and destination\\n•6 bytes\\n•Type:Upper layer protocol (IP, Novell IPX, AppleTalk, …)\\n•Checksum: Error detection code. CRC??\\n105102\\n105 3/12/2025\\n47TRƯỜNG CÔNG NGHỆ THÔNG TIN VÀ TRUYỀN THÔNG\\nSchool of Information and Communication Technology\\nSwitched Ethernet\\n\\uf06cSwitched Ethernet (popular nowdays): \\n\\uf06cStar topology,\\n\\uf06cUse a central switch Ethernet\\n\\uf06cThe switch outputs a frame only to the port linking to the \\ndestination \\uf0e8independent connection for each pair of two nodes\\n\\uf06cNo collision\\n\\uf06cNo media access control is needed .\\n106\\nswitch\\nbus: coaxial cablestar\\nWireless LAN\\n107106\\n107 3/12/2025\\n48TRƯỜNG CÔNG NGHỆ THÔNG TIN VÀ TRUYỀN THÔNG\\nSchool of Information and Communication Technology\\nOverview of 802.11 LAN\\n108\\uf06cInclude base station = \\naccess point ) and \\nstations with wireless \\nnetwork interfaces\\n\\uf06cBase station mode\\n\\uf06cBasic Service Set (BSS) \\n\\uf06cwireless hosts\\n\\uf06caccess point (AP): base \\nstation\\n\\uf06cAd hoc mode: \\n\\uf06cStations pay also the \\nrole of APBSS 1\\nBSS 2Internet\\nhub, switch\\nhay routerAP\\nAP\\nTRƯỜNG CÔNG NGHỆ THÔNG TIN VÀ TRUYỀN THÔNG\\nSchool of Information and Communication Technology\\nStandards\\n\\uf06c802.11b\\n\\uf06cBand 2.4-5 GHz (unlicensed \\nspectrum)\\n\\uf06cMaximum speed 11 Mbps\\n\\uf06c802.11a\\n\\uf06cBand 5-6 GHz \\n\\uf06cMaximum speed 54 Mbps\\uf06c802.11g\\n\\uf06cBand 2.4-5 GHz\\n\\uf06cMaximum speed 54 \\nMbps\\n\\uf06c802.11n: use multiple \\nantennas (MIMO)\\n\\uf06cBand 2.4-5 GHz\\n\\uf06cMaximum speed 200 \\nMbps\\n109\\uf06cEmploy CSMA/CA  for multiple access control\\n\\uf06cWorking in 2 modes : base-station and ad hoc108\\n109 3/12/2025\\n49TRƯỜNG CÔNG NGHỆ THÔNG TIN VÀ TRUYỀN THÔNG\\nSchool of Information and Communication Technology\\n802.11: Chanel and connection\\n\\uf06cBand is divided into 14 channels spaced 5MHz \\napart. Europe uses 13 channels, America uses 11 \\nchannels, Japan uses 14 channels. \\n\\uf06cAdmin chooses a working frequency for AP (may \\nleave AP to choose automatically)\\n\\uf06cStation: need to connect to an AP\\n\\uf06cScan channels, listen to initial frames ( beacon frames)\\ncontaining the ID (SSID) and MAC address of the AP\\n\\uf06cChoose one AP.\\n110\\nTRƯỜNG CÔNG NGHỆ THÔNG TIN VÀ TRUYỀN THÔNG\\nSchool of Information and Communication Technology\\n802.11: Chanel and connection\\n111110\\n111 3/12/2025\\n50TRƯỜNG CÔNG NGHỆ THÔNG TIN VÀ TRUYỀN THÔNG\\nSchool of Information and Communication Technology\\nScanning mechanism: active/passive\\n112\\nAP 2 AP 1\\nH1BBS 2 BBS 1\\n1\\n2 2\\n34\\nActive Scanning : \\n(1) H1 broacast the request to find \\nan AP\\n(2) APs reply with their information\\n(3) H1 send a connection request to \\nAP2\\n(4) AP2 accepts the requests \\nAP 2 AP 1\\nH1BBS 2 BBS 1\\n1\\n231\\nPassive Scanning:\\n(1) Beacon frames are sent from APs\\n(2) H1 send a connection request to \\nAP2\\n(3) AP2 accepts the request\\nTRƯỜNG CÔNG NGHỆ THÔNG TIN VÀ TRUYỀN THÔNG\\nSchool of Information and Communication Technology\\nIEEE 802.11: Multiple access control\\n•802.11: CSMA\\n•802.11: CA – Collision Avoidance\\n•It is difficult to implement Collision detection (CD) in \\nwireless environment. \\n•In some cases, it is even impossible to detect the collision : \\nhidden terminal, fading\\n113\\nABCA B C\\nA’s signal\\nstrength\\nspaceC’s signal\\nstrength112\\n113 3/12/2025\\n51TRƯỜNG CÔNG NGHỆ THÔNG TIN VÀ TRUYỀN THÔNG\\nSchool of Information and Communication Technology\\nIEEE 802.11 MAC Protocol: CSMA/CA\\nSender\\n1 If the channel is available during DIFStime then\\nSend the entire frame (no CD)\\n2 ifchannel is busy then\\nStarting random back-off (waiting)\\nAt the end of back-off time, send data\\nIf no ACK is received, double the back-off \\ntime and try again.\\nReceiver\\n-If receive well a frame then\\nreply by an ACK after SIFS\\n114Sender Receiver\\nDIFS\\ndata\\nSIFS\\nACK\\nDIFS: Distributed Inter Frame Space\\nSIFS: Short Inter Frame SpaceWhy need ACK?\\nTRƯỜNG CÔNG NGHỆ THÔNG TIN VÀ TRUYỀN THÔNG\\nSchool of Information and Communication Technology\\nAvoid Collision mechanism\\nIdea:Sender can reserve channel without random access \\uf0e0\\navoid collision for long frame\\n\\uf06cSender send frame RTS (request-to-send) to BS using CSMA\\n\\uf06cRTS may meet a collision (with low probability because \\nthe frame is short)\\n\\uf06cBS broadcast the frame CTS (clear-to-send CTS) to answer\\n\\uf06cAll stations receive CTS\\n\\uf06cSender send data frame\\n\\uf06cAll other stations has to cancel the intention to send \\nframes.\\n115Avoid collision thanks to the reservation \\nmade by small size control frames114\\n115 3/12/2025\\n52TRƯỜNG CÔNG NGHỆ THÔNG TIN VÀ TRUYỀN THÔNG\\nSchool of Information and Communication Technology\\nCollision Avoidance using RTS-CTS\\n116AP\\nA B\\ntime\\nDATA (A)reservation collision\\ndefer\\nTRƯỜNG CÔNG NGHỆ THÔNG TIN VÀ TRUYỀN THÔNG\\nSchool of Information and Communication Technology\\nExample of CSMA/CA on 802.11\\n117tbusy\\nboestation1\\nstation2\\nstation3\\nstation4\\nstation5\\nRequest to send dataDIFS\\nboe\\nboe\\nboebusy\\nbackoff time (elapsed)\\nborbackoff time (residual)busyUsing channelborborDIFS\\nboe\\nboeboeborDIFS\\nbusy\\nbusyDIFS\\nboebusy\\nboe\\nboebor\\nbor116\\n117 3/12/2025\\n53TRƯỜNG CÔNG NGHỆ THÔNG TIN VÀ TRUYỀN THÔNG\\nSchool of Information and Communication Technology\\n802.11 frame: Addressing\\n118frame\\ncontroldurationaddress\\n1address\\n2address\\n4address\\n3payload CRC2 2 6 6 6 2 60 - 2312 4\\nseq\\ncontrol\\nAddress 2: address of the sourceAddress 1: address of \\nthe destinationAddress 3: MAC address of \\nthe router attached to the \\nAPAddress 4: Using in \\nadhoc mode\\nTRƯỜNG CÔNG NGHỆ THÔNG TIN VÀ TRUYỀN THÔNG\\nSchool of Information and Communication Technology\\n119Internet\\nrouter\\nAP\\nH1 R1\\nAP MAC addr  H1 MAC addr R1 MAC addr\\naddress 1 address 2 address 3\\n802.11frame\\nR1 MAC addr  AP MAC addr \\ndest. address source address \\n802.3frame802.11 frame: Addressing118\\n119 3/12/2025\\n54TRƯỜNG CÔNG NGHỆ THÔNG TIN VÀ TRUYỀN THÔNG\\nSchool of Information and Communication Technology\\n120frame\\ncontroldurationaddress\\n1address\\n2address\\n4address\\n3payload CRC2 2 6 6 6 2 60 - 2312 4\\nseq\\ncontrol\\nTypeFrom\\nAPSubtypeTo\\nAPMore \\nfragWEPMore\\ndataPower\\nmgtRetry RsvdProtocol\\nversion2 2 4 1 1 1 1 1 1 1 1\\n802.11 frame\\nDuration of the reservation (RTS/CTS)frame seq #\\n(ACK)\\nframe type\\n(RTS, CTS, ACK, data)\\n121Virtual LAN120\\n121 3/12/2025\\n55TRƯỜNG CÔNG NGHỆ THÔNG TIN VÀ TRUYỀN THÔNG\\nSchool of Information and Communication Technology\\nVirtual LANs (VLANs): motivation\\nLink Layer: 6-122\\nComputer \\nScience EE\\nQ: what happens as LAN sizes scale, users change point of attachment?\\nsingle broadcast domain:\\n\\uf0a7scaling: all layer-2 broadcast traffic \\n(ARP, DHCP, unknown MAC) must \\ncross entire LAN \\n\\uf0a7efficiency, security, privacy issues\\nTRƯỜNG CÔNG NGHỆ THÔNG TIN VÀ TRUYỀN THÔNG\\nSchool of Information and Communication Technology\\nVirtual LANs (VLANs): motivation\\nLink Layer: 6-123administrative issues:\\n\\uf0a7CS user moves office to EE - physically\\nattached to EE switch, but wants to \\nremainlogically attached to CS \\nswitch\\nComputer \\nScience EE\\nsingle broadcast domain:\\n\\uf0a7scaling: all layer-2 broadcast traffic \\n(ARP, DHCP, unknown MAC) must \\ncross entire LAN \\n\\uf0a7efficiency, security, privacy, efficiency \\nissuesQ: what happens as LAN sizes scale, users change point of attachment?122\\n123 3/12/2025\\n56TRƯỜNG CÔNG NGHỆ THÔNG TIN VÀ TRUYỀN THÔNG\\nSchool of Information and Communication Technology\\n1\\n8 279\\n16 1015Port-based VLANs\\nLink Layer: 6-124switch(es) supporting \\nVLAN capabilities can \\nbe configured to define \\nmultiple virtual LANS \\nover single physical \\nLAN infrastructure.Virtual Local Area \\nNetwork (VLAN)port-based VLAN: switch ports grouped (by \\nswitch management software) so that \\nsinglephysical switch ……\\n…\\nEE (VLAN ports 1-8) CS (VLAN ports 9-15)…\\n… operates as multiple virtual switches\\n1\\n8 27\\nEE (VLAN ports 1-8)…\\n9\\n16 1015\\n…\\nCS (VLAN ports 9-15)\\nTRƯỜNG CÔNG NGHỆ THÔNG TIN VÀ TRUYỀN THÔNG\\nSchool of Information and Communication Technology\\n1\\n8 279\\n16 1015Port-based VLANs\\nLink Layer: 6-125…\\nEE (VLAN ports 1-8) CS (VLAN ports 9-15)…\\n\\uf0a7traffic isolation: frames to/from ports \\n1-8 can onlyreach ports 1-8\\n•can also define VLAN based on MAC \\naddresses of endpoints, rather than \\nswitch port\\n\\uf0a7dynamic membership :ports can be \\ndynamically assigned among VLANs\\n\\uf0a7forwarding between VLANS: done via \\nrouting (just as with separate \\nswitches)\\n•in practice vendors sell combined \\nswitches plus routers\\n124\\n125 3/12/2025\\n57TRƯỜNG CÔNG NGHỆ THÔNG TIN VÀ TRUYỀN THÔNG\\nSchool of Information and Communication Technology\\n1\\n8 279\\n16 1015VLANS spanning multiple switches\\nLink Layer: 6-126…\\nEE (VLAN ports 1-8) CS (VLAN ports 9-15)…\\n5\\n8 27\\n…\\n161\\n63\\n4\\nPorts 2,3,5 belong to EE VLAN\\nPorts 4,6,7,8 belong to CS VLAN\\ntrunk port: carries frames between VLANS defined over multiple \\nphysical switches\\n\\uf0a7frames forwarded within VLAN between switches can’t be vanilla 802.1 \\nframes (must carry VLAN ID info)\\n\\uf0a7802.1q protocol adds/removed additional header fields for frames \\nforwarded between trunk ports\\nTRƯỜNG CÔNG NGHỆ THÔNG TIN VÀ TRUYỀN THÔNG\\nSchool of Information and Communication Technology\\n802.1Q VLAN frame format\\nLink Layer: 6-127802.1 Ethernet framedest.addresssourceaddressdata (payload) CRC preambletype\\n2-byte Tag Protocol Identifier\\n(value: 81-00) Tag Control Information \\n(12 bit VLAN ID field, 3 bit priority field like IP \\nTOS)Recomputed \\nCRC802.1Q framedest.addresssourceaddressdata (payload) CRC preambletype126\\n127 3/12/2025\\n58\\nAccess networks using \\noptical fiber\\nTRƯỜNG CÔNG NGHỆ THÔNG TIN VÀ TRUYỀN THÔNG\\nSchool of Information and Communication Technology\\nAccess networks\\n•Access networks gather data from users to  \\nfeed to core network\\n•Popular access networks for providing services \\nto users\\n–Public telephone network\\n–TV Cable network\\n–Internet to home network.128\\n129 3/12/2025\\n59TRƯỜNG CÔNG NGHỆ THÔNG TIN VÀ TRUYỀN THÔNG\\nSchool of Information and Communication Technology\\nArchitecture of access network\\nTRƯỜNG CÔNG NGHỆ THÔNG TIN VÀ TRUYỀN THÔNG\\nSchool of Information and Communication Technology\\nArchitecture of access network\\n•Hub\\n–Device on the service provider side receiving \\ndata\\n•Network Interface Unit (NIU)\\n–Device on the user side connecting an user or an \\norganization\\n•Remote Node (RN)\\n–In broadcasting networks,  RN distribute data \\nfrom Hub to NIUs\\n–In switched networks, RN receive data from Hub \\nand distribute different flows to NIUs130\\n131 3/12/2025\\n60TRƯỜNG CÔNG NGHỆ THÔNG TIN VÀ TRUYỀN THÔNG\\nSchool of Information and Communication Technology\\nTechnologies for connecting to ISP using cable\\n•Dial-up: \\n•speed 56kbps, \\n•Using telephone line\\n•Data is transmitted using \\nthe same frequency with \\nvoice \\uf0e0either data or \\nvoice communication \\navailable\\n•Obsolete technology, \\nused before 2000•ADSL technology: \\n•Speed few Mbps, \\n•Using telephone line \\n•Data is transmitted in \\ndifferent frequency than \\nvoice, technology used in \\n2000-2010\\n•Technology using TV cable\\n•FTTH technology: \\n•Speed dozens Mbps, \\n•Using optical fiber\\n•Popular technology \\nnowadays\\n132\\nTRƯỜNG CÔNG NGHỆ THÔNG TIN VÀ TRUYỀN THÔNG\\nSchool of Information and Communication Technology\\nOptical access network: FTTx\\n•Data is distributed on the fiber cable in the distribution \\nnetwork until ONU (Optical Network Unit)\\n–Expectation: fiber approaches the customers \\n•FTTCab(Fiber To The Cabinet ): Optical fiber ends at a cabinet in \\nless than 1 km distance to the subscriber using copper \\ncable. \\n•FTTC (Fiber To The Curb ) / FTTB(Fiber To The Building );  ONU serves \\nsome subscribers (8 to 64); from ONU to NIU using copper \\ncable (< 100m)\\n•FTTH (Fiber To The Home ); ONUs performs the \\nfunctionality of NIUs;132\\n133 3/12/2025\\n61TRƯỜNG CÔNG NGHỆ THÔNG TIN VÀ TRUYỀN THÔNG\\nSchool of Information and Communication Technology\\nOptical access network: FTTx\\nFigure taken from book Optical Networks: A Practical Perspective, Rajiv Ramaswami,Kumar \\nSivarajanAn example of ONU: optical modem\\nTRƯỜNG CÔNG NGHỆ THÔNG TIN VÀ TRUYỀN THÔNG\\nSchool of Information and Communication Technology\\nOptical access networks: FTTx\\n134\\n135 3/12/2025\\n62TRƯỜNG CÔNG NGHỆ THÔNG TIN VÀ TRUYỀN THÔNG\\nSchool of Information and Communication Technology\\nAON vs. PON\\nRemote Note (Distribution nodes) distribute \\ndata toward destinations.\\nAON: Active Optical Network\\n-Remote Node consume electricity\\n-Remote node analyse and forward packets to \\ndestination according to addresses\\n-Cable distance can go up to 100 km.\\nPON: Passive Optical Network\\n-Remote Node does not consume electricity\\n-Remote node (Splitter) does not analyze but \\nrepeat signal to all out ports\\n-Upstream: MUX from different sources using \\nTDM (TDM PON) or WDM (WDM PON)\\n-Cable distance is limited within 20km\\nTRƯỜNG CÔNG NGHỆ THÔNG TIN VÀ TRUYỀN THÔNG\\nSchool of Information and Communication Technology\\nEPON: Ethernet PON\\n•EPON: PON transport Ethernet frames\\n•Down stream\\n•Broadcast common data136\\n137 3/12/2025\\n63TRƯỜNG CÔNG NGHỆ THÔNG TIN VÀ TRUYỀN THÔNG\\nSchool of Information and Communication Technology\\nEPON\\n• Upstream: Mux Ethernet frames \\nfrom users to the common link OLT-\\nRN using TDM\\nTRƯỜNG CÔNG NGHỆ THÔNG TIN VÀ TRUYỀN THÔNG\\nSchool of Information and Communication Technology\\nGPON: Gigabit Capable PON\\n•GPON may be used to carry different data: \\nEthernet, ATM, voice …\\n•Data from OLT to users share common channel \\nbetween OLT or RN\\n•Downstream broadcast\\n•Upstream TDM\\n•Data are encapsulated in GPON frames with ID of \\nthe receiver (downstream direction), sender \\n(upstream direction) \\n139138\\n139 3/12/2025\\n64TRƯỜNG CÔNG NGHỆ THÔNG TIN VÀ TRUYỀN THÔNG\\nSchool of Information and Communication Technology\\nWPON (WDM PON)\\n•Developed by companies and has not been standardized\\n•Each ONT use a wavelength to transmit data\\n•Remote note is AWG (arrayed waveguide grating). The AWG is \\ncapable to MUX/DEMUX wavelengths from up and down \\nstreams.\\n140'"
      ]
     },
     "execution_count": 33,
     "metadata": {},
     "output_type": "execute_result"
    }
   ],
   "source": [
    "text"
   ]
  },
  {
   "cell_type": "code",
   "execution_count": 42,
   "metadata": {},
   "outputs": [],
   "source": [
    "from my_helper_function import clean_presentation_text"
   ]
  },
  {
   "cell_type": "code",
   "execution_count": null,
   "metadata": {},
   "outputs": [],
   "source": [
    "cleaned_text = clean_presentation_text(text)\n",
    "print(cleaned_text)"
   ]
  },
  {
   "cell_type": "markdown",
   "metadata": {},
   "source": [
    "### md"
   ]
  },
  {
   "cell_type": "code",
   "execution_count": null,
   "metadata": {},
   "outputs": [],
   "source": [
    "md_path = \"Computer_Network_Chapter_3.md\"\n",
    "\n",
    "import markdown\n",
    "    "
   ]
  },
  {
   "cell_type": "markdown",
   "metadata": {},
   "source": [
    "### chunking"
   ]
  },
  {
   "cell_type": "code",
   "execution_count": 44,
   "metadata": {},
   "outputs": [],
   "source": [
    "# --- 4. Chunking with LangChain ---\n",
    "# Initialize the text splitter\n",
    "# Adjust chunk_size and chunk_overlap based on your RAG needs and the LLM's context window\n",
    "text_splitter = RecursiveCharacterTextSplitter(\n",
    "    chunk_size=1000,  # Max characters per chunk\n",
    "    chunk_overlap=150, # Characters to overlap between chunks\n",
    "    length_function=len,\n",
    "    is_separator_regex=False,\n",
    "    separators=[\"\\n\\n\", \"\\n\", \". \", \", \", \" \", \"\"] # Order of separators to try\n",
    ")\n",
    "\n",
    "# Split the cleaned text into documents (chunks)\n",
    "# In LangChain, text is often wrapped in a 'Document' object, \n",
    "# but for this example, we'll work directly with the text strings.\n",
    "chunks = text_splitter.split_text(cleaned_text)"
   ]
  },
  {
   "cell_type": "code",
   "execution_count": null,
   "metadata": {},
   "outputs": [],
   "source": [
    "# --- 5. Condensing Chunks with Structured Output ---\n",
    "\n",
    "# Define the desired structured output format using Pydantic\n",
    "class ChunkCondensation(BaseModel):\n",
    "    \"\"\"Defines the desired structure for condensed information from a text chunk.\"\"\"\n",
    "    summary: str = Field(description=\"A concise summary (2-3 sentences) of the main topic discussed in the chunk.\")\n",
    "    keywords: List[str] = Field(description=\"A list of 3-5 main keywords or terms mentioned.\")\n",
    "    key_concepts: List[str] = Field(description=\"A list of key concepts, protocols, or definitions explained in the chunk.\")\n",
    "    # You could add more fields, e.g., potential_questions: List[str]\n",
    "\n",
    "# Set up the PydanticOutputParser\n",
    "# This parser will automatically generate formatting instructions for the LLM\n",
    "# and parse the LLM's JSON output back into the Pydantic object.\n",
    "output_parser = PydanticOutputParser(pydantic_object=ChunkCondensation)\n",
    "\n",
    "# Define the Prompt Template\n",
    "# This template includes the original text chunk and the formatting instructions\n",
    "# generated by the output_parser.\n",
    "prompt_template = PromptTemplate(\n",
    "    template=\"Analyze the following text chunk about the Data Link Layer. Extract the requested information.\\n{format_instructions}\\nChunk Text:\\n{chunk}\\n\",\n",
    "    input_variables=[\"chunk\"],\n",
    "    partial_variables={\"format_instructions\": output_parser.get_format_instructions()}\n",
    ")\n",
    "\n",
    "# Initialize the LLM (e.g., Gemini via LangChain) - Requires API Key\n",
    "# Make sure to replace \"YOUR_API_KEY\" with your actual key if running this\n",
    "# llm = ChatGoogleGenerativeAI(model=\"gemini-pro\", google_api_key=\"YOUR_API_KEY\", convert_system_message_to_human=True) \n",
    "\n",
    "# --- Process Chunks ---\n",
    "condensed_data_list = []\n",
    "for i, chunk in enumerate(chunks):\n",
    "    \n",
    "    # --- This is where you would call the LLM with the structured prompt ---\n",
    "    \n",
    "    # 1. Format the prompt with the current chunk and parser instructions\n",
    "    # formatted_prompt = prompt_template.format_prompt(chunk=chunk)\n",
    "\n",
    "    # 2. Invoke the LLM (Requires API Key and uncommenting)\n",
    "    # response = llm.invoke(formatted_prompt.to_string()) # Get LLM response as string\n",
    "\n",
    "    # 3. Parse the LLM response using the Pydantic parser\n",
    "    # try:\n",
    "    #    parsed_output = output_parser.parse(response)\n",
    "    #    condensed_data_list.append(parsed_output.dict()) # Store the structured data as a dictionary\n",
    "    # except Exception as e:\n",
    "    #    print(f\"Error parsing LLM output for chunk {i+1}: {e}\")\n",
    "    #    # Handle error, maybe store the raw chunk or a default structure\n",
    "    #    condensed_data_list.append({\n",
    "    #        \"summary\": f\"Error processing chunk {i+1}\", \n",
    "    #        \"keywords\": [], \n",
    "    #        \"key_concepts\": [],\n",
    "    #        \"raw_chunk\": chunk # Optionally keep raw chunk on error\n",
    "    #    })\n",
    "        \n",
    "    # --- Placeholder for demonstration (Simulating LLM Output) ---\n",
    "    # To make the script runnable without an API key, we'll create placeholder structured data.\n",
    "    # In a real implementation, you would remove this placeholder block \n",
    "    # and use the actual LLM call and parsing above.\n",
    "    placeholder_data = {\n",
    "        \"summary\": f\"This is a placeholder summary for chunk {i+1}. It would normally contain a concise overview of the chunk's content.\",\n",
    "        \"keywords\": [f\"keyword{j}\" for j in range(1, 4)], # Placeholder keywords\n",
    "        \"key_concepts\": [f\"concept{j}\" for j in range(1, 3)] # Placeholder concepts\n",
    "    }\n",
    "    condensed_data_list.append(placeholder_data)\n",
    "    # --- End of Placeholder ---\n",
    "\n",
    "    # Optional: Print progress\n",
    "    # print(f\"Processed chunk {i+1}/{len(chunks)}\")\n",
    "\n",
    "\n",
    "# --- 6. Output Example ---\n",
    "# Print the first few structured condensation results\n",
    "print(\"--- Example Cleaned and Condensed Structured Output (First 3 Chunks) ---\")\n",
    "for i in range(min(3, len(condensed_data_list))): \n",
    "    print(f\"--- Condensed Data for Chunk {i+1} ---\")\n",
    "    # Print the structured data (dictionary format)\n",
    "    # In a real scenario, this would contain the data extracted by the LLM\n",
    "    print(json.dumps(condensed_data_list[i], indent=2)) \n",
    "    print(\"-\" * 20)\n",
    "\n",
    "# You can now use the 'condensed_data_list' which contains structured dictionaries\n",
    "# for each chunk, suitable for indexing in a vector database or other RAG components.\n",
    "# For example, you might index the 'summary' or 'key_concepts' along with the original chunk.\n",
    "\n",
    "# Example: Saving structured data to a JSON file\n",
    "# with open(\"condensed_datalink_data.json\", \"w\", encoding=\"utf-8\") as f:\n",
    "#     json.dump(condensed_data_list, f, indent=2, ensure_ascii=False)\n",
    "\n"
   ]
  },
  {
   "cell_type": "code",
   "execution_count": 31,
   "metadata": {},
   "outputs": [
    {
     "name": "stdout",
     "output_type": "stream",
     "text": [
      "Requirement already satisfied: google in /opt/anaconda3/lib/python3.12/site-packages (3.0.0)\n",
      "Requirement already satisfied: beautifulsoup4 in /opt/anaconda3/lib/python3.12/site-packages (from google) (4.12.3)\n",
      "Requirement already satisfied: soupsieve>1.2 in /opt/anaconda3/lib/python3.12/site-packages (from beautifulsoup4->google) (2.5)\n"
     ]
    }
   ],
   "source": [
    "information_condenser = ChatGoogleGenerativeAI(\n",
    "    model = \"gemini-2.5-pro-exp-03-25\",\n",
    "    temperature = 0,\n",
    "    max_tokens=None,\n",
    "    timeout=None\n",
    ")"
   ]
  }
 ],
 "metadata": {
  "kernelspec": {
   "display_name": "Python 3 (ipykernel)",
   "language": "python",
   "name": "python3"
  }
 },
 "nbformat": 4,
 "nbformat_minor": 4
}
